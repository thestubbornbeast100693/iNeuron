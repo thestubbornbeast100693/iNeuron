{
 "cells": [
  {
   "cell_type": "markdown",
   "id": "0f6fe320",
   "metadata": {},
   "source": [
    "## Q.1 What are two values of  Boolean data types? How do you write them?"
   ]
  },
  {
   "cell_type": "raw",
   "id": "cae9e54f",
   "metadata": {},
   "source": [
    "Boolean data types are important concept in programming for implementing decision making and logic in software applications. They represent the truth values, \"True\", and \"False\", which are the possible outcomes of a logical condition or comparison. They are used to control the flow of the program based on conditions. They are commonly used in conditional statements, such as if statements or while loops, and logical operations, such as AND, OR, and NOT, to evaluate complex conditions. The example of use cases are as follow:"
   ]
  },
  {
   "cell_type": "code",
   "execution_count": 7,
   "id": "96f4815e",
   "metadata": {},
   "outputs": [
    {
     "data": {
      "text/plain": [
       "False"
      ]
     },
     "execution_count": 7,
     "metadata": {},
     "output_type": "execute_result"
    }
   ],
   "source": [
    "#Using with Boolean data types for logical operation\n",
    "6<3"
   ]
  },
  {
   "cell_type": "code",
   "execution_count": 9,
   "id": "ace223e4",
   "metadata": {},
   "outputs": [
    {
     "data": {
      "text/plain": [
       "False"
      ]
     },
     "execution_count": 9,
     "metadata": {},
     "output_type": "execute_result"
    }
   ],
   "source": [
    "4==3"
   ]
  },
  {
   "cell_type": "code",
   "execution_count": 19,
   "id": "0787ab44",
   "metadata": {},
   "outputs": [
    {
     "data": {
      "text/plain": [
       "True"
      ]
     },
     "execution_count": 19,
     "metadata": {},
     "output_type": "execute_result"
    }
   ],
   "source": [
    "4 == 2**2"
   ]
  },
  {
   "cell_type": "code",
   "execution_count": 1,
   "id": "b89a71b5",
   "metadata": {},
   "outputs": [
    {
     "name": "stdout",
     "output_type": "stream",
     "text": [
      "10\n",
      "12\n",
      "14\n",
      "16\n",
      "18\n"
     ]
    }
   ],
   "source": [
    "#Using with for loop\n",
    "for num in range(10,20):\n",
    "    if num % 2 == 0: #checking for even number - boolean condition\n",
    "        print(num)"
   ]
  },
  {
   "cell_type": "code",
   "execution_count": 4,
   "id": "ff9a5fe8",
   "metadata": {},
   "outputs": [
    {
     "name": "stdout",
     "output_type": "stream",
     "text": [
      "First power of 2 greater than 100 is 128\n"
     ]
    }
   ],
   "source": [
    "#Using with While loop\n",
    "power = 0\n",
    "result = 1\n",
    "while result <= 100: #Boolean condition for checking result is less than or equal to 100\n",
    "    power += 1\n",
    "    result = 2 ** power\n",
    "print(\"First power of 2 greater than 100 is\", result)"
   ]
  },
  {
   "cell_type": "markdown",
   "id": "3a2ab6a3",
   "metadata": {},
   "source": [
    "# Q.2 What are three different types of Boolean operators?"
   ]
  },
  {
   "cell_type": "raw",
   "id": "64d7897f",
   "metadata": {},
   "source": [
    "There are basically three different types of Boolean operators for manipulating or combining boolean values or expressions. \n",
    "1. AND operator (&&) - returns \"true\" for both operands or conditions true\n",
    "2. OR operator (||) - returns \"true\" for at least one of the operands or conditions is true. Returns \"false\" only if both the operands or conditions are false.\n",
    "3. NOT operator (!) - It is a unary operator that negates the boolean value of an operand. If the operand is true, the NOT operator will return false, and vice versa."
   ]
  },
  {
   "cell_type": "code",
   "execution_count": 25,
   "id": "274ae69f",
   "metadata": {},
   "outputs": [
    {
     "data": {
      "text/plain": [
       "False"
      ]
     },
     "execution_count": 25,
     "metadata": {},
     "output_type": "execute_result"
    }
   ],
   "source": [
    "#AND operator\n",
    "25 <= 4**2 and 25 == 5**2"
   ]
  },
  {
   "cell_type": "code",
   "execution_count": 32,
   "id": "4d812381",
   "metadata": {},
   "outputs": [
    {
     "data": {
      "text/plain": [
       "True"
      ]
     },
     "execution_count": 32,
     "metadata": {},
     "output_type": "execute_result"
    }
   ],
   "source": [
    "#or operator\n",
    "25 <= 4**2 or 25 == 5**2"
   ]
  },
  {
   "cell_type": "code",
   "execution_count": 36,
   "id": "20ffeb90",
   "metadata": {},
   "outputs": [
    {
     "data": {
      "text/plain": [
       "True"
      ]
     },
     "execution_count": 36,
     "metadata": {},
     "output_type": "execute_result"
    }
   ],
   "source": [
    "#NOT operator\n",
    "not 25 <= 4**2"
   ]
  },
  {
   "cell_type": "markdown",
   "id": "6eacd45e",
   "metadata": {},
   "source": [
    "## Q3. What are the values of the following expressions?"
   ]
  },
  {
   "cell_type": "raw",
   "id": "d70cf2ca",
   "metadata": {},
   "source": [
    "1. (5>4) and (3==5)\n",
    "2. not(5>4)\n",
    "3. (5>4) or (3 == 5)\n",
    "4. not((5>4) or (3 == 5))\n",
    "5. (True and True) and (True == False)\n",
    "6. (not False) or (not True)"
   ]
  },
  {
   "cell_type": "raw",
   "id": "7508c629",
   "metadata": {},
   "source": [
    "1. False\n",
    "2. False\n",
    "3. True\n",
    "4. False\n",
    "5. False\n",
    "6. True"
   ]
  },
  {
   "cell_type": "code",
   "execution_count": 38,
   "id": "14ce08cf",
   "metadata": {},
   "outputs": [
    {
     "data": {
      "text/plain": [
       "False"
      ]
     },
     "execution_count": 38,
     "metadata": {},
     "output_type": "execute_result"
    }
   ],
   "source": [
    "(5>4) and (3==5)"
   ]
  },
  {
   "cell_type": "code",
   "execution_count": 39,
   "id": "b12aa413",
   "metadata": {},
   "outputs": [
    {
     "data": {
      "text/plain": [
       "False"
      ]
     },
     "execution_count": 39,
     "metadata": {},
     "output_type": "execute_result"
    }
   ],
   "source": [
    "not(5>4)"
   ]
  },
  {
   "cell_type": "code",
   "execution_count": 40,
   "id": "d9d2eb59",
   "metadata": {},
   "outputs": [
    {
     "data": {
      "text/plain": [
       "True"
      ]
     },
     "execution_count": 40,
     "metadata": {},
     "output_type": "execute_result"
    }
   ],
   "source": [
    "(5>4) or (3 == 5)"
   ]
  },
  {
   "cell_type": "code",
   "execution_count": 41,
   "id": "16c5ef19",
   "metadata": {},
   "outputs": [
    {
     "data": {
      "text/plain": [
       "False"
      ]
     },
     "execution_count": 41,
     "metadata": {},
     "output_type": "execute_result"
    }
   ],
   "source": [
    "not((5>4) or (3 == 5))"
   ]
  },
  {
   "cell_type": "code",
   "execution_count": 42,
   "id": "3d255be5",
   "metadata": {},
   "outputs": [
    {
     "data": {
      "text/plain": [
       "False"
      ]
     },
     "execution_count": 42,
     "metadata": {},
     "output_type": "execute_result"
    }
   ],
   "source": [
    "(True and True) and (True == False)"
   ]
  },
  {
   "cell_type": "code",
   "execution_count": 43,
   "id": "b04a6a27",
   "metadata": {},
   "outputs": [
    {
     "data": {
      "text/plain": [
       "True"
      ]
     },
     "execution_count": 43,
     "metadata": {},
     "output_type": "execute_result"
    }
   ],
   "source": [
    "(not False) or (not True)"
   ]
  },
  {
   "cell_type": "markdown",
   "id": "887389af",
   "metadata": {},
   "source": [
    "## Q5. What are the six comparison operators?"
   ]
  },
  {
   "cell_type": "raw",
   "id": "53d44b97",
   "metadata": {},
   "source": [
    "There are six common comparison operators used in programming to compare values or expressions. These operators evaluate conditions and return a boolean result based on comparison.\n",
    "1. Equal to (==)\n",
    "2. Not equal to (!=)\n",
    "3. Greater than (>)\n",
    "4. Less than(<)\n",
    "5. Greater than equal to (>=)\n",
    "6. Less than or equal to (<=)"
   ]
  },
  {
   "cell_type": "markdown",
   "id": "9df11241",
   "metadata": {},
   "source": [
    "## Q6. Identify the three blocks in this code:"
   ]
  },
  {
   "cell_type": "raw",
   "id": "f7a8e93f",
   "metadata": {},
   "source": [
    "spam = 0\n",
    "if spam == 10:\n",
    "print('eggs')\n",
    "if spam > 5:\n",
    "print('bacon')\n",
    "else:\n",
    "print('ham')\n",
    "print('spam')\n",
    "print('spam')"
   ]
  },
  {
   "cell_type": "raw",
   "id": "5eeb4fa7",
   "metadata": {},
   "source": [
    "The three blocks are as follows:"
   ]
  },
  {
   "cell_type": "raw",
   "id": "8cf7b83f",
   "metadata": {},
   "source": [
    "#Block 1\n",
    "if spam == 10:\n",
    "    print ('eggs')"
   ]
  },
  {
   "cell_type": "raw",
   "id": "c398dbb6",
   "metadata": {},
   "source": [
    "#Block 2\n",
    "if spam > 5:\n",
    "    print('bacon')"
   ]
  },
  {
   "cell_type": "raw",
   "id": "af1d2ac4",
   "metadata": {},
   "source": [
    "#Block 3\n",
    "else:\n",
    "    print('ham')\n",
    "    print('spam')\n",
    "    print('spam')"
   ]
  },
  {
   "cell_type": "markdown",
   "id": "dd0e4e3e",
   "metadata": {},
   "source": [
    "## Q7. Write code that prints Hello if 1 is stored in spam, prints Howdy if 2 is stored in spam, and prints Greetings! if anything else is stored in spam."
   ]
  },
  {
   "cell_type": "code",
   "execution_count": 47,
   "id": "52b13b0f",
   "metadata": {},
   "outputs": [
    {
     "name": "stdout",
     "output_type": "stream",
     "text": [
      "Greetings!\n"
     ]
    }
   ],
   "source": [
    "#Solution\n",
    "spam = 7\n",
    "if spam == 1:\n",
    "    print('Hello')\n",
    "elif spam == 2:\n",
    "    print('Howdy')\n",
    "else:\n",
    "    print('Greetings!')"
   ]
  },
  {
   "cell_type": "markdown",
   "id": "909f8e89",
   "metadata": {},
   "source": [
    "## Q9.If your programme is stuck in an endless loop, what keys you’ll press?"
   ]
  },
  {
   "cell_type": "raw",
   "id": "c3f52b7c",
   "metadata": {},
   "source": [
    "#Solution\n",
    "If a program is stuck in an endless loop and you need to stop its execution, you can typically press the following key combinations depending on your operating system:\n",
    "    \n",
    "    Windows/Linux:\n",
    "    Press \"Ctrl + C\" to send an interrupt signal to the running program. This key combination will terminate the program and break the endless loop.\n",
    "\n",
    "    MacOS:\n",
    "    Press \"Command + .\" (Command key and period key) to send a signal to terminate the running program and break the endless loop.\n",
    "\n",
    "These key combinations allow you to forcefully stop the execution of the program and regain control. However, it's important to note that abruptly terminating a program may result in loss of unsaved data or unintended consequences, so it should be used judiciously."
   ]
  },
  {
   "cell_type": "markdown",
   "id": "63ce9b4c",
   "metadata": {},
   "source": [
    "## Q10. How can you tell the difference between break and continue?"
   ]
  },
  {
   "cell_type": "raw",
   "id": "c901e55e",
   "metadata": {},
   "source": [
    "#Solution\n",
    "\"break\" and \"cotinue\" are the control flow statements used within loops to alter normal execution flow. The key difference is their effect on the loop's behavior. The break statement is used to exit the loop entirely regardless of any remaining iterations and terminates the loop. program execution continues with the next statement after the loop. While the continue statement is used to skip the remaining code within the loop for the current iteration and move to the next iteration. Continue statement allows to bypass the certain parts of the loop's body based on a condition."
   ]
  },
  {
   "cell_type": "code",
   "execution_count": 54,
   "id": "f0619817",
   "metadata": {},
   "outputs": [
    {
     "name": "stdout",
     "output_type": "stream",
     "text": [
      "1\n",
      "2\n",
      "3\n",
      "4\n"
     ]
    }
   ],
   "source": [
    "for i in range(1,7):\n",
    "    if i == 5:\n",
    "        break\n",
    "    print(i)"
   ]
  },
  {
   "cell_type": "code",
   "execution_count": 53,
   "id": "b9a39085",
   "metadata": {},
   "outputs": [
    {
     "name": "stdout",
     "output_type": "stream",
     "text": [
      "7\n",
      "8\n",
      "9\n",
      "11\n",
      "12\n",
      "13\n"
     ]
    }
   ],
   "source": [
    "for j in range(7,14):\n",
    "    if j == 10:\n",
    "        continue\n",
    "    print(j)"
   ]
  },
  {
   "cell_type": "markdown",
   "id": "4562238c",
   "metadata": {},
   "source": [
    "##  Q11. In a for loop, what is the difference between range(10), range(0, 10), and range(0, 10, 1)?"
   ]
  },
  {
   "cell_type": "raw",
   "id": "bec51c62",
   "metadata": {},
   "source": [
    "#Solution\n",
    "All of them generate the same output as sequence of numbers from 0 to 9. However, there are subtle differences in how they are defined. They provide different ways to specify the start, stop, and step values in the range() function."
   ]
  },
  {
   "cell_type": "code",
   "execution_count": 59,
   "id": "a11f8e0f",
   "metadata": {},
   "outputs": [
    {
     "name": "stdout",
     "output_type": "stream",
     "text": [
      "0\n",
      "1\n",
      "2\n",
      "3\n",
      "4\n",
      "5\n",
      "6\n",
      "7\n",
      "8\n",
      "9\n"
     ]
    }
   ],
   "source": [
    "for i in range(10):\n",
    "    print(i)\n",
    "\"\"\"Here, single arguement 10 provided to range() function, \n",
    "which is considered as stop value and is exclusive \n",
    "and start value assumed to be 0 and step value assumed to be 1\"\"\""
   ]
  },
  {
   "cell_type": "code",
   "execution_count": 60,
   "id": "a8dcaf5f",
   "metadata": {},
   "outputs": [
    {
     "name": "stdout",
     "output_type": "stream",
     "text": [
      "0\n",
      "1\n",
      "2\n",
      "3\n",
      "4\n",
      "5\n",
      "6\n",
      "7\n",
      "8\n",
      "9\n"
     ]
    }
   ],
   "source": [
    "for i in range(0,10):\n",
    "    print(i)\n",
    "\"\"\"Here, 2 arguements provided within range() function, where 0 is start value\n",
    "and 10 is stop value and is exclusive in output.\n",
    "Only step value is to be assumed as 1\"\"\""
   ]
  },
  {
   "cell_type": "code",
   "execution_count": 61,
   "id": "bd46bdf6",
   "metadata": {},
   "outputs": [
    {
     "name": "stdout",
     "output_type": "stream",
     "text": [
      "0\n",
      "1\n",
      "2\n",
      "3\n",
      "4\n",
      "5\n",
      "6\n",
      "7\n",
      "8\n",
      "9\n"
     ]
    }
   ],
   "source": [
    "for i in range(0,10,1):\n",
    "    print(i)\n",
    "\"\"\"Here, we don't need to assume anything. 0 is the inclusive start value,\n",
    ", 10 is the exclusive stop value, and 1 is the step function i.e\n",
    "increment between each number.\"\"\""
   ]
  },
  {
   "cell_type": "markdown",
   "id": "f165a601",
   "metadata": {},
   "source": [
    "## Q12. Write a short program that prints the numbers 1 to 10 using a for loop. Then write an equivalent program that prints the numbers 1 to 10 using a while loop."
   ]
  },
  {
   "cell_type": "code",
   "execution_count": 62,
   "id": "d15fbb68",
   "metadata": {},
   "outputs": [
    {
     "name": "stdout",
     "output_type": "stream",
     "text": [
      "1\n",
      "2\n",
      "3\n",
      "4\n",
      "5\n",
      "6\n",
      "7\n",
      "8\n",
      "9\n",
      "10\n"
     ]
    }
   ],
   "source": [
    "#Printing 1 - 10 using for loop\n",
    "for i in range(1,11):\n",
    "    print(i)\n",
    "#11 is exclusive"
   ]
  },
  {
   "cell_type": "code",
   "execution_count": 63,
   "id": "1367e31a",
   "metadata": {},
   "outputs": [
    {
     "name": "stdout",
     "output_type": "stream",
     "text": [
      "1\n",
      "2\n",
      "3\n",
      "4\n",
      "5\n",
      "6\n",
      "7\n",
      "8\n",
      "9\n",
      "10\n"
     ]
    }
   ],
   "source": [
    "#Printing 1-10 using while loop\n",
    "i = 1\n",
    "while i <=10:\n",
    "    print(i)\n",
    "    i += 1 #subsequent incremental process in while loop"
   ]
  },
  {
   "cell_type": "markdown",
   "id": "c557b807",
   "metadata": {},
   "source": [
    "## Q13. If you had a function named bacon() inside a module named spam, how would you call it after importing spam?"
   ]
  },
  {
   "cell_type": "code",
   "execution_count": null,
   "id": "4fd74b35",
   "metadata": {},
   "outputs": [],
   "source": [
    "#Solution\n",
    "import spam #to import spam\n",
    "spam.bacon() \n",
    "#to access bacon function from the 'spam' module using 'spam.bacon()'"
   ]
  }
 ],
 "metadata": {
  "kernelspec": {
   "display_name": "Python 3 (ipykernel)",
   "language": "python",
   "name": "python3"
  },
  "language_info": {
   "codemirror_mode": {
    "name": "ipython",
    "version": 3
   },
   "file_extension": ".py",
   "mimetype": "text/x-python",
   "name": "python",
   "nbconvert_exporter": "python",
   "pygments_lexer": "ipython3",
   "version": "3.10.9"
  }
 },
 "nbformat": 4,
 "nbformat_minor": 5
}
