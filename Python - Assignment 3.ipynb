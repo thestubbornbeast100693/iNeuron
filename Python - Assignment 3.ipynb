{
 "cells": [
  {
   "cell_type": "markdown",
   "id": "5bf50ab6",
   "metadata": {},
   "source": [
    "# Q 1. Why are functions advantageous to have in your programs?"
   ]
  },
  {
   "cell_type": "markdown",
   "id": "ecc55d16",
   "metadata": {},
   "source": [
    "Functions contribute to the overall efficiency, readability, code structuring, and maintainability of the programs. They are fundamental building blocks of strutured programming, and aid in making code organized, efficienct, and maintainable. Advantages of having them in programming are:\n",
    "1. Readability\n",
    "    Functional calls with useful, and meaningful names aid in improving the readability of the code, and avoides the need for long sequence of instructions in the main program. \n",
    "2. Modularity\n",
    "    Functions are useful in breaking complex problems into simpler, and smaller manageable tasks. Each function can handle different part of the task, which makes code more organized and understandable. Modularity promotes code resuage as well. \n",
    "3. Reusability\n",
    "    Functions can be reused multiple times in the same program or in different projects, which subsequently saves the time and effort.\n",
    "4. Debugging and troubleshooting\n",
    "    Functions aid in isolation and filtering of the problematic part for occurence of bugs in our program. Through dividing the program into smaller functions, exact function causing the bug issue can be highlighted and fixed without disrupting the rest of the code.\n",
    "5. Testing\n",
    "    Functions make testing individual components of our program easier.\n",
    "6. Performance optimization\n",
    "    Well-structured functions aid in easy identification of the bottlenecks, and further optimization without much disruption to the rest of the program."
   ]
  },
  {
   "cell_type": "markdown",
   "id": "db7ed06a",
   "metadata": {},
   "source": [
    "## Q 2. When does a code in a function run: when it is specified or when it is called?"
   ]
  },
  {
   "cell_type": "markdown",
   "id": "b6902959",
   "metadata": {},
   "source": [
    "A code inside a function runs when it called, not when it is defined or specified. Defining or specifying the function just sets up the template for the program so that when the function is invoked later in the program, the code executes."
   ]
  },
  {
   "cell_type": "code",
   "execution_count": 4,
   "id": "05640ee8",
   "metadata": {},
   "outputs": [],
   "source": [
    "# defining \n",
    "def function():\n",
    "    print(\"Assignmment 3 Python is a function.\")"
   ]
  },
  {
   "cell_type": "code",
   "execution_count": 3,
   "id": "910dae14",
   "metadata": {},
   "outputs": [
    {
     "name": "stdout",
     "output_type": "stream",
     "text": [
      "Assignmment 3 Python is a function.\n"
     ]
    }
   ],
   "source": [
    "#Invoking/calling\n",
    "function()\n",
    "\n",
    "\"\"\"As can be seen here, there is no output generation when the previous cell with definition was execute. \n",
    "The function yielded an output only when called.\"\"\""
   ]
  },
  {
   "cell_type": "markdown",
   "id": "e290574c",
   "metadata": {},
   "source": [
    "## Q 3. What statement creates a function?"
   ]
  },
  {
   "cell_type": "markdown",
   "id": "3086bef6",
   "metadata": {},
   "source": [
    "Function definition or function declaration statement creates a function. For python, \"def\" keyword is used to define a function and create it. The general syntax used is as follow:"
   ]
  },
  {
   "cell_type": "code",
   "execution_count": null,
   "id": "017cb41c",
   "metadata": {},
   "outputs": [],
   "source": [
    "def function_name(parameters):\n",
    "    #Function body (code block)\n",
    "    #...\n",
    "    return result #(optional) return statement\n",
    "\"\"\"Here\n",
    "def - denotes start of the function\n",
    "\n",
    "function_name - denotes name of the function, with a preferable desriptive name \n",
    "following same rules of declaration as that of variable\n",
    "\n",
    "Parameters - optional inputs\n",
    "\n",
    "Function body (code block) - represents function's logic i.e what the function will do when called. This portion\n",
    "may contain multiple statements, including conditional, loops, and other functional calls.\n",
    "\n",
    "return - optional keyword used to specify the value function will return when executed. \n",
    "If ommitted the function returns 'NONE' by default\"\"\"\n",
    "\n",
    "An example is depicted below"
   ]
  },
  {
   "cell_type": "code",
   "execution_count": 11,
   "id": "ff6b91b8",
   "metadata": {},
   "outputs": [],
   "source": [
    "#defining \n",
    "x = 4\n",
    "y = 7\n",
    "def multiply(x,y):\n",
    "    result = x * y\n",
    "    return result"
   ]
  },
  {
   "cell_type": "code",
   "execution_count": 12,
   "id": "73cc81ed",
   "metadata": {},
   "outputs": [
    {
     "name": "stdout",
     "output_type": "stream",
     "text": [
      "28\n"
     ]
    }
   ],
   "source": [
    "#invoking\n",
    "res = multiply(x,y)\n",
    "print(res)"
   ]
  },
  {
   "cell_type": "markdown",
   "id": "23301499",
   "metadata": {},
   "source": [
    "## Q 4. What is the difference between a function and a function call?"
   ]
  },
  {
   "cell_type": "markdown",
   "id": "6aaaa29e",
   "metadata": {},
   "source": [
    "Both function and function call refer to different aspect of the same concept in programming.\n",
    "\n",
    "Function is a block of code that performs a specific tasks or set of tasks. It is defined using 'def' keyword in python. Functions aid in organizing the code, makeing it readable, reusable, maintainable, and modulating it. While declaring a function, a blueprint or template is created for code execution whenever function is called.\n",
    "\n",
    "While 'function call' is the act of invoking or calling a function for code execution. On calling a function, the program jumps to function declaration line in the code and execute the code block. A function is called by using function name with a succedding paranthesis, and it may require arguements inside the paranthesis as per the requiement of the function. "
   ]
  },
  {
   "cell_type": "code",
   "execution_count": 13,
   "id": "b6bbf392",
   "metadata": {},
   "outputs": [],
   "source": [
    "#FUNCTION\n",
    "def floor(a,b):\n",
    "    res = a//b\n",
    "    return res"
   ]
  },
  {
   "cell_type": "code",
   "execution_count": 14,
   "id": "886a2b36",
   "metadata": {},
   "outputs": [
    {
     "name": "stdout",
     "output_type": "stream",
     "text": [
      "1\n"
     ]
    }
   ],
   "source": [
    "#FUNCTION CALL\n",
    "a = 10\n",
    "b = 7\n",
    "f_res = floor(a,b)\n",
    "print(f_res)"
   ]
  },
  {
   "cell_type": "markdown",
   "id": "9f207dc4",
   "metadata": {},
   "source": [
    "## Q 5. How many global scopes are there in a Python program? How many local scopes"
   ]
  },
  {
   "cell_type": "markdown",
   "id": "aad2da94",
   "metadata": {},
   "source": [
    "In python, there is only one global scope, which is the top-level scope. It is the outermost scope of the program and exist througout the program lifetime. Variables defined in global scope are accessible from anywhere within the program. Global variables are defined typically outside of any function or class, making them available for use in all the parts of the program.\n",
    "\n",
    "Each function call inside any function or class, leads o creation of new local scopes. Hence, local scope is dependent on number of times the functional calls are made during program execution. Everyime a function is called, the function creates its own local scope, where the variables defined within the function are accessible. Hence, number of local scopes in a python program can vary depending on the number of functions called for, and the number of nested functions within the function. "
   ]
  },
  {
   "cell_type": "code",
   "execution_count": 21,
   "id": "a7ad2b35",
   "metadata": {},
   "outputs": [
    {
     "name": "stdout",
     "output_type": "stream",
     "text": [
      "8.774964387392123\n"
     ]
    }
   ],
   "source": [
    "#EXAMPLE\n",
    "#GLOBAL SCOPE\n",
    "a = 77 ** 0.5\n",
    "def sq_root():\n",
    "    print(a) #Accessing global variable inside a function\n",
    "sq_root()"
   ]
  },
  {
   "cell_type": "code",
   "execution_count": 20,
   "id": "10af2b8d",
   "metadata": {},
   "outputs": [
    {
     "name": "stdout",
     "output_type": "stream",
     "text": [
      "125\n",
      "16\n"
     ]
    }
   ],
   "source": [
    "#LOCAL SCOPE\n",
    "def square():\n",
    "    a = 4 ** 2\n",
    "    \n",
    "    def cube():\n",
    "        b = 5 ** 3\n",
    "        print(b) #Accessing inner variable\n",
    "    cube()\n",
    "    print(a) #Accessing outer variable\n",
    "square()\n",
    "#Hence, here 2 local scopes created one for outer variable and one for inner both defined within the function itself. "
   ]
  },
  {
   "cell_type": "markdown",
   "id": "e4cbd63c",
   "metadata": {},
   "source": [
    "## Q 6. What happens to a variable in a local scope when the function call returns?"
   ]
  },
  {
   "cell_type": "markdown",
   "id": "67681344",
   "metadata": {},
   "source": [
    "When the function call returns, the local scope that was created for that function is destroyed implying deallocation of the variables defined within the local scopes of the function. Their values are no longer accessibe or valid once the function execution is completed. "
   ]
  },
  {
   "cell_type": "code",
   "execution_count": 35,
   "id": "88a65182",
   "metadata": {},
   "outputs": [
    {
     "name": "stdout",
     "output_type": "stream",
     "text": [
      "Enter the length:7\n",
      "Enter the width:8\n",
      "Area of the rectangle: 56\n",
      "8.774964387392123\n"
     ]
    }
   ],
   "source": [
    "def area_rect(l,w):\n",
    "    l = int(input(\"Enter the length:\"))\n",
    "    w = int(input(\"Enter the width:\"))\n",
    "    a = l*w\n",
    "    print(\"Area of the rectangle:\",a)\n",
    "area_rect(l,w)\n",
    "print(a)\n",
    "\"\"\"#It can be seen here that after the function calling is done, when the local scope variable (a), \n",
    "is tried to be accessed, it returns the previous global scope variable value.\"\"\""
   ]
  },
  {
   "cell_type": "markdown",
   "id": "795e0f97",
   "metadata": {},
   "source": [
    "## Q 7. What is the concept of a return value? Is it possible to have a return value in an expression?"
   ]
  },
  {
   "cell_type": "markdown",
   "id": "65b86cda",
   "metadata": {},
   "source": [
    "Return value is the value that a function returns to the caller after execution of the function. When a function is called and it contains a \"return\" statement, the function evaluates an expression and provide the result as its return value. The return value can further be used for computations, assignments, or any other purpose. \n",
    "'return' statement is used to specify the value to be returned from a function. When 'return' statement is encountered during the execution of the function, the function's execution is immediately terminated, and the control is transferred back to the caller, along with the return value. "
   ]
  },
  {
   "cell_type": "code",
   "execution_count": 36,
   "id": "26c9579b",
   "metadata": {},
   "outputs": [
    {
     "name": "stdout",
     "output_type": "stream",
     "text": [
      "25\n"
     ]
    }
   ],
   "source": [
    "def square(number): #square function taking parameter number \n",
    "    return number ** 2 #return statement returning square of the number using the given expression\n",
    "result = square(5)\n",
    "print(result)"
   ]
  },
  {
   "cell_type": "markdown",
   "id": "1b41d5b8",
   "metadata": {},
   "source": [
    "Yes, it is possible to have a return value in an expression. The expression can be a single value, a variable, a mathematical operation, or even a more complex computaton involving multiple variables and operators. \n",
    "However, it is vital to remember than function can return only one value. For returning multiple values, one can use various data structures such as tuples, lists, or dictionaries to encapsulate multiple values and return them as a single entity. "
   ]
  },
  {
   "cell_type": "markdown",
   "id": "0b5b8323",
   "metadata": {},
   "source": [
    "## Q 8. If a function does not have a return statement, what is the return value of a call to that function?"
   ]
  },
  {
   "cell_type": "markdown",
   "id": "8c440b09",
   "metadata": {},
   "source": [
    "In such a case, the return value of a call to that function is \"None\". In case of requirement of a specific return value, it is mandatory to consider the return statement in the program, with the approproate value within the function's body."
   ]
  },
  {
   "cell_type": "code",
   "execution_count": 37,
   "id": "a84e36d3",
   "metadata": {},
   "outputs": [
    {
     "name": "stdout",
     "output_type": "stream",
     "text": [
      "Hello,Dhoni\n",
      "None\n"
     ]
    }
   ],
   "source": [
    "def greet(name):\n",
    "    print(\"Hello,\" + name)\n",
    "result = greet(\"Dhoni\")\n",
    "print(result)\n",
    "\n",
    "#Here, \"Hello, Dhoni\" is printed but without any explicit return value."
   ]
  },
  {
   "cell_type": "markdown",
   "id": "48d1f247",
   "metadata": {},
   "source": [
    "## Q 9. How do you make a function variable refer to the global variable?"
   ]
  },
  {
   "cell_type": "markdown",
   "id": "eb08cf9c",
   "metadata": {},
   "source": [
    "This can be done by declaring the variable as \"global\" within the function. It helps in instructing python about the usage of global variabe instead of a local variable creation. "
   ]
  },
  {
   "cell_type": "code",
   "execution_count": 40,
   "id": "0f1dd39c",
   "metadata": {},
   "outputs": [
    {
     "name": "stdout",
     "output_type": "stream",
     "text": [
      "Inside the function: 15\n",
      "Outside the function: 15\n"
     ]
    }
   ],
   "source": [
    "#Example\n",
    "global_variable = 10\n",
    "def use_global_variable():\n",
    "    global global_variable #declaring the variable as global\n",
    "    global_variable += 5 #modify the global variable\n",
    "    print(\"Inside the function:\", global_variable)\n",
    "use_global_variable()\n",
    "print(\"Outside the function:\", global_variable)"
   ]
  },
  {
   "cell_type": "markdown",
   "id": "6836c542",
   "metadata": {},
   "source": [
    "## Q 10. What is the data type of None?"
   ]
  },
  {
   "cell_type": "code",
   "execution_count": 41,
   "id": "b19cd127",
   "metadata": {},
   "outputs": [
    {
     "data": {
      "text/plain": [
       "NoneType"
      ]
     },
     "execution_count": 41,
     "metadata": {},
     "output_type": "execute_result"
    }
   ],
   "source": [
    "type(None)\n",
    "\"\"\"This data type represent absence of a value or a null value. It is used to represent a varibale or expression\n",
    "which does not have a value or a function call not returning any value.\"\"\""
   ]
  },
  {
   "cell_type": "code",
   "execution_count": 43,
   "id": "54d4f6d1",
   "metadata": {},
   "outputs": [
    {
     "name": "stdout",
     "output_type": "stream",
     "text": [
      "a - None\n"
     ]
    }
   ],
   "source": [
    "a = None\n",
    "if a is None:\n",
    "    print(\"a - None\")\n",
    "else:\n",
    "    print(\"a - NoNone\")"
   ]
  },
  {
   "cell_type": "markdown",
   "id": "502ce491",
   "metadata": {},
   "source": [
    "## Q 11. What does the sentence import areallyourpetsnamederic do?"
   ]
  },
  {
   "cell_type": "markdown",
   "id": "962c9707",
   "metadata": {},
   "source": [
    "It attempts to import a module or package named \"areallyourpetsnamederic\". If the module exists then its content become available for usage in the current python script or interactive session. If it doesn't exists, then there is a \"ImportError\".\n"
   ]
  },
  {
   "cell_type": "markdown",
   "id": "75537658",
   "metadata": {},
   "source": [
    "## Q 12. If you had a bacon() feature in a spam module, what would you call it after importing spam?"
   ]
  },
  {
   "cell_type": "markdown",
   "id": "d4c2c7da",
   "metadata": {},
   "source": [
    "bacon() will become a function after importing spam. It will be called by prefixing it with 'spam.' so python recognizes it as part of the 'spam' module and can execute accordingly."
   ]
  },
  {
   "cell_type": "markdown",
   "id": "5053daeb",
   "metadata": {},
   "source": [
    "## Q 13. What can you do to save a program from crashing if it encounters an error?"
   ]
  },
  {
   "cell_type": "markdown",
   "id": "a7eb1819",
   "metadata": {},
   "source": [
    "Error handling can be used in such a case to gracefully handle exceptions. \n",
    "In python, primary error handling mechanism for dealing with exceptions is \"try-except\" block. This allows continuity of the program without any abrupt interruption."
   ]
  },
  {
   "cell_type": "code",
   "execution_count": 52,
   "id": "1b7059e6",
   "metadata": {},
   "outputs": [
    {
     "name": "stdout",
     "output_type": "stream",
     "text": [
      "Error: division by zero\n",
      "Result: None\n"
     ]
    },
    {
     "data": {
      "text/plain": [
       "\"If the 'try' block contains a code that may raise an exception, then\\nthe program jumps to the 'exception' block without crashing code immediately\\nor abrupt interruption. It the executes the code inside the except block.\""
      ]
     },
     "execution_count": 52,
     "metadata": {},
     "output_type": "execute_result"
    }
   ],
   "source": [
    "try:\n",
    "    res = 77/(7 * 0) #expected to give ZeroDivisionError\n",
    "except ZeroDivisionError as a:\n",
    "    print(\"Error:\",a) #code to handle exception\n",
    "    res = None #for error handling\n",
    "print(\"Result:\", res)\n",
    "\n",
    "\"\"\"If the 'try' block contains a code that may raise an exception, then\n",
    "the program jumps to the 'exception' block without crashing code immediately\n",
    "or abrupt interruption. It the executes the code inside the except block.\"\"\""
   ]
  },
  {
   "cell_type": "markdown",
   "id": "05deaadf",
   "metadata": {},
   "source": [
    "## Q 14. What is the purpose of the try clause? What is the purpose of the except clause?"
   ]
  },
  {
   "cell_type": "markdown",
   "id": "c9cf4a05",
   "metadata": {},
   "source": [
    "Both the clauses are used in python for \"exception-handling\", majorly helpful in handling errors.\n",
    "\n",
    "1. 'Try' clause is used to enclose the code that may potentially raise and exception. It is the code block where the exception is tested. If the exception/error occurs within the 'try' block, the code jumps to the corresponding 'except' block, skipping the remaining code of the 'try' block.\n",
    "The main purpose of 'try' clause is to allow the program, to attempt potentially error-prone operations, such as complex mathematical calculations, network operations, etc. and allow a controlled way to handle any exceptions that might arise. \n",
    "\n",
    "2. 'Except' clause is used to define the code tht should be executed when a specific exception occurs within the associated 'try' block. Except catches the exception and aids in handling it gracefully without any abrupt program crash. The main purpose is to handle exceptional conditions, such as logging the error information, displaying meaningful error messages to users, or taking any corrective actions required in response to the exception. \n"
   ]
  }
 ],
 "metadata": {
  "kernelspec": {
   "display_name": "Python 3 (ipykernel)",
   "language": "python",
   "name": "python3"
  },
  "language_info": {
   "codemirror_mode": {
    "name": "ipython",
    "version": 3
   },
   "file_extension": ".py",
   "mimetype": "text/x-python",
   "name": "python",
   "nbconvert_exporter": "python",
   "pygments_lexer": "ipython3",
   "version": "3.10.9"
  }
 },
 "nbformat": 4,
 "nbformat_minor": 5
}
